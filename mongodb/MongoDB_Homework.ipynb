{
 "cells": [
  {
   "cell_type": "markdown",
   "metadata": {},
   "source": [
    "# Week 4: Document-Based Stores (MongoDB)\n",
    "### Student ID: [#####]\n",
    "### Subtasks Done: [#,#,..]"
   ]
  },
  {
   "cell_type": "markdown",
   "metadata": {},
   "source": [
    "### Task 1: Create a simple MongoDB out of this relational model"
   ]
  },
  {
   "cell_type": "markdown",
   "metadata": {},
   "source": [
    "This is  a toy DB about movies and actors who played roles in these movies. This DB is consisted of  \n",
    "\n",
    "- A \"Person\" table who has a unique id, and a name fields.\n",
    "\n",
    "- Another \"Movie\" table that has a unique id, a title, a country where it was made, and a year when it was released.\n",
    "\n",
    "- There is (m-n) or \"many-many\" relationship between these two tables (i.e basically, many actors can act in many movies, and the movie include many actors)\n",
    "- Therefore, we use the \"Roles\" table in which we can deduct which person has acted in which movie, and what role(s) they played.\n",
    "\n",
    "<img src=\"RDBSchema.png\" alt=\"3\" border=\"0\">"
   ]
  },
  {
   "cell_type": "markdown",
   "metadata": {},
   "source": [
    "#### Connect to the MongoDB server, and create a mongoDB with the name 'moviedb'"
   ]
  },
  {
   "cell_type": "code",
   "execution_count": 1,
   "metadata": {},
   "outputs": [
    {
     "data": {
      "text/plain": [
       "['admin', 'config', 'local']"
      ]
     },
     "execution_count": 1,
     "metadata": {},
     "output_type": "execute_result"
    }
   ],
   "source": [
    "##YOUR CODE HERER\n",
    "from pymongo import MongoClient\n",
    "from random import randint\n",
    "from pprint import pprint\n",
    "\n",
    "import warnings\n",
    "warnings.filterwarnings('ignore')\n",
    "myclient = MongoClient(\"mongodb://mongo:27017/\") #Mongo URI format\n",
    "mydb = myclient[\"moviedb\"]\n",
    "\n",
    "myclient.list_database_names()"
   ]
  },
  {
   "cell_type": "markdown",
   "metadata": {},
   "source": [
    "#### Create Person/Actor collection"
   ]
  },
  {
   "cell_type": "code",
   "execution_count": 2,
   "metadata": {},
   "outputs": [
    {
     "data": {
      "text/plain": [
       "[]"
      ]
     },
     "execution_count": 2,
     "metadata": {},
     "output_type": "execute_result"
    }
   ],
   "source": [
    "##YOUR CODE HERER\n",
    "person_coll = mydb[\"person\"]\n",
    "mydb.list_collection_names()\n"
   ]
  },
  {
   "cell_type": "markdown",
   "metadata": {},
   "source": [
    "#### Insert the data into the Person Table"
   ]
  },
  {
   "cell_type": "code",
   "execution_count": 3,
   "metadata": {},
   "outputs": [
    {
     "name": "stdout",
     "output_type": "stream",
     "text": [
      "[ObjectId('634e73153b8939e789864779'), ObjectId('634e73153b8939e78986477a'), ObjectId('634e73153b8939e78986477b'), ObjectId('634e73153b8939e78986477c')]\n"
     ]
    }
   ],
   "source": [
    "personList = [\n",
    "  { \"id\": 1, \"name\": \"Charlie Sheen\" },\n",
    "  { \"id\": 2, \"name\": \"Michael Douglas\"},\n",
    "  { \"id\": 3, \"name\": \"Martin Sheen\"},\n",
    "  { \"id\": 4, \"name\": \"Morgan Freeman\"}\n",
    "]\n",
    "\n",
    "###YOUR CODE HERE\n",
    "first_customers = person_coll.insert_many(personList)\n",
    "print(first_customers.inserted_ids)"
   ]
  },
  {
   "cell_type": "markdown",
   "metadata": {},
   "source": [
    "#### Creating rest of Collections (\"Movies\", \"Roles\")"
   ]
  },
  {
   "cell_type": "code",
   "execution_count": 4,
   "metadata": {},
   "outputs": [
    {
     "data": {
      "text/plain": [
       "['person']"
      ]
     },
     "execution_count": 4,
     "metadata": {},
     "output_type": "execute_result"
    }
   ],
   "source": [
    "restcols = [\"Movies\",\"Roles\"]\n",
    "\n",
    "for col in restcols:\n",
    "    mydb[col]\n",
    "\n",
    "mydb.list_collection_names()"
   ]
  },
  {
   "cell_type": "markdown",
   "metadata": {},
   "source": [
    "#### Inserting data into the movie Collection"
   ]
  },
  {
   "cell_type": "code",
   "execution_count": 5,
   "metadata": {},
   "outputs": [
    {
     "name": "stdout",
     "output_type": "stream",
     "text": [
      "[ObjectId('634e73173b8939e78986477d'), ObjectId('634e73173b8939e78986477e'), ObjectId('634e73173b8939e78986477f')]\n"
     ]
    }
   ],
   "source": [
    "moviescoll = mydb[\"Movies\"]\n",
    "\n",
    "movieList = [\n",
    "  { \"id\": 1, \"title\": \"Wall Street\", \"country\":\"USA\",\"year\":1987},\n",
    "  { \"id\": 2, \"title\": \"The American President\", \"country\":\"USA\",\"year\":1995},\n",
    "  { \"id\": 3, \"title\": \"The Shawshank Redemption\", \"country\":\"USA\",\"year\":1994},\n",
    "]\n",
    "\n",
    "###YOUR CODE HERE\n",
    "movies_added = moviescoll.insert_many(movieList)\n",
    "print(movies_added.inserted_ids)"
   ]
  },
  {
   "cell_type": "markdown",
   "metadata": {},
   "source": [
    "#### Inserting data into the roles Collection"
   ]
  },
  {
   "cell_type": "code",
   "execution_count": 6,
   "metadata": {},
   "outputs": [
    {
     "name": "stdout",
     "output_type": "stream",
     "text": [
      "[ObjectId('634e73193b8939e789864780'), ObjectId('634e73193b8939e789864781'), ObjectId('634e73193b8939e789864782'), ObjectId('634e73193b8939e789864783'), ObjectId('634e73193b8939e789864784'), ObjectId('634e73193b8939e789864785')]\n"
     ]
    }
   ],
   "source": [
    "rolesCol = mydb[\"Roles\"]\n",
    "\n",
    "roleList = [\n",
    "  { \"personId\": 1, \"movieId\": 1, \"role\":[\"Bud Fox\"]},\n",
    "  { \"personId\": 2, \"movieId\": 1, \"role\":[\"Carl Fox\"]},\n",
    "  { \"personId\": 3, \"movieId\": 1, \"role\":[\"Gordon Gekko\"]},\n",
    "  { \"personId\": 2, \"movieId\": 2, \"role\":[\"A.J. MacInerney\"]},\n",
    "  { \"personId\": 3, \"movieId\": 2, \"role\":[\"President Andrew Shepherd\"]},\n",
    "  { \"personId\": 4, \"movieId\": 3, \"role\":[\"Ellis Boyd 'Red' Redding\"]}\n",
    "]\n",
    "\n",
    "###YOUR CODE HERE\n",
    "roels_added = rolesCol.insert_many(roleList)\n",
    "print(roels_added.inserted_ids)"
   ]
  },
  {
   "cell_type": "markdown",
   "metadata": {},
   "source": [
    "### <font color ='green'>Just for your info</font>:\n",
    "\n",
    "#### Another Way of Modeling this M-N model in Mongo would be using the Forien Keys \n",
    "\n",
    "\n",
    "* Movies\n",
    "\n",
    "\n",
    "```[\n",
    "\n",
    "{\n",
    "\t\"_id\": 1,\n",
    "\t\"title\":\"Wall Street\",\n",
    "\t\"country\":\"USA\",\n",
    "\t\"year\":1987,\n",
    "\t\"persons\":[1,2]\n",
    "},\n",
    "\n",
    "{\n",
    "\t\"_id\": 2,\n",
    "\t\"title\":\"The American President\",\n",
    "\t\"country\":\"USA\",\n",
    "\t\"year\":1995,\n",
    "\t\"persons\":[2]\n",
    "}]\n",
    "```\n",
    "* Actors\n",
    "\n",
    "```\n",
    "[{\n",
    "    \"_id\": 1,\n",
    "    \"name\": \"Charlie Sheen\",\n",
    "    \"movies\":[\n",
    "    {\"role\": \"Bud Fox\", \"movie_id\":1}\n",
    "    ]\n",
    "},\n",
    "\n",
    "{\n",
    "    \"_id\": 2,\n",
    "    \"name\": \"Micheal Douglas\",\n",
    "    \"movies\":[\n",
    "    {\"role\": \"Gordon Geko\", \"movie_id\":1},\n",
    "    {\"role\": \"President Andrew Shepherd\", \"movie_id\":2}\n",
    "    ]\n",
    "}\n",
    "\n",
    "] ```\n"
   ]
  },
  {
   "cell_type": "markdown",
   "metadata": {},
   "source": [
    "#### Get all actors in your Mongo DB"
   ]
  },
  {
   "cell_type": "code",
   "execution_count": 7,
   "metadata": {},
   "outputs": [
    {
     "name": "stdout",
     "output_type": "stream",
     "text": [
      "{'id': 1, 'name': 'Charlie Sheen'}\n",
      "{'id': 2, 'name': 'Michael Douglas'}\n",
      "{'id': 3, 'name': 'Martin Sheen'}\n",
      "{'id': 4, 'name': 'Morgan Freeman'}\n",
      "{'personId': 1, 'movieId': 1, 'role': ['Bud Fox']}\n",
      "{'personId': 2, 'movieId': 1, 'role': ['Carl Fox']}\n",
      "{'personId': 3, 'movieId': 1, 'role': ['Gordon Gekko']}\n",
      "{'personId': 2, 'movieId': 2, 'role': ['A.J. MacInerney']}\n",
      "{'personId': 3, 'movieId': 2, 'role': ['President Andrew Shepherd']}\n",
      "{'personId': 4, 'movieId': 3, 'role': [\"Ellis Boyd 'Red' Redding\"]}\n",
      "{'id': 1, 'title': 'Wall Street', 'country': 'USA', 'year': 1987}\n",
      "{'id': 2, 'title': 'The American President', 'country': 'USA', 'year': 1995}\n",
      "{'id': 3, 'title': 'The Shawshank Redemption', 'country': 'USA', 'year': 1994}\n"
     ]
    }
   ],
   "source": [
    "###YOUR CODE HERE\n",
    "actors = mydb.person.find({}, projection={'_id' : False})\n",
    "for actor in actors:\n",
    "    print(actor)\n",
    "    \n",
    "roles = mydb.Roles.find({}, projection={'_id' : False})\n",
    "for role in roles:\n",
    "    print(role)\n",
    "    \n",
    "movies = mydb.Movies.find({}, projection={'_id' : False})\n",
    "for m in movies:\n",
    "    print(m)"
   ]
  },
  {
   "cell_type": "markdown",
   "metadata": {},
   "source": [
    "#### Get actors with names start with 'C' letter"
   ]
  },
  {
   "cell_type": "code",
   "execution_count": 8,
   "metadata": {},
   "outputs": [
    {
     "name": "stdout",
     "output_type": "stream",
     "text": [
      "{'_id': ObjectId('634e73153b8939e789864779'), 'id': 1, 'name': 'Charlie Sheen'}\n"
     ]
    }
   ],
   "source": [
    "###YOUR CODE HERE\n",
    "actors = mydb.person.find({\"name\" : { \"$regex\" : \"^C\" }})\n",
    "for actor in actors:\n",
    "    print(actor)"
   ]
  },
  {
   "cell_type": "markdown",
   "metadata": {},
   "source": [
    "#### Get all Movies sorted from recent to old! (get only the title and year fields)"
   ]
  },
  {
   "cell_type": "code",
   "execution_count": 9,
   "metadata": {},
   "outputs": [
    {
     "name": "stdout",
     "output_type": "stream",
     "text": [
      "{'_id': ObjectId('634e73153b8939e789864779'), 'id': 1, 'name': 'Charlie Sheen'}\n",
      "{'_id': ObjectId('634e73153b8939e78986477a'), 'id': 2, 'name': 'Michael Douglas'}\n",
      "{'_id': ObjectId('634e73153b8939e78986477b'), 'id': 3, 'name': 'Martin Sheen'}\n",
      "{'_id': ObjectId('634e73153b8939e78986477c'), 'id': 4, 'name': 'Morgan Freeman'}\n"
     ]
    }
   ],
   "source": [
    "###YOUR CODE HERE\n",
    "from pymongo import DESCENDING as pymongoDescending\n",
    "persons_Sorted=mydb.person.find({}).sort(\"created_at\", pymongoDescending)\n",
    "for person in persons_Sorted:\n",
    "    print(person)"
   ]
  },
  {
   "cell_type": "markdown",
   "metadata": {},
   "source": [
    "#### Get all Movies released in the 90s (after year (1990) and before 2000) ordered from old to recent."
   ]
  },
  {
   "cell_type": "code",
   "execution_count": 10,
   "metadata": {},
   "outputs": [
    {
     "name": "stdout",
     "output_type": "stream",
     "text": [
      "{'_id': ObjectId('634e73173b8939e78986477e'), 'id': 2, 'title': 'The American President', 'country': 'USA', 'year': 1995}\n",
      "{'_id': ObjectId('634e73173b8939e78986477f'), 'id': 3, 'title': 'The Shawshank Redemption', 'country': 'USA', 'year': 1994}\n"
     ]
    }
   ],
   "source": [
    "###YOUR CODE HERE\n",
    "movies90 = mydb.Movies.find( \n",
    "    {\"$and\": [ \n",
    "        { \"year\": { \"$gt\": 1990 } },\n",
    "        { \"year\": { \"$lt\": 2000 } } \n",
    "    ] } )\n",
    "\n",
    "for movie in movies90:\n",
    "    print(movie)"
   ]
  },
  {
   "cell_type": "markdown",
   "metadata": {},
   "source": [
    "#### Get Movies and Actors from your \"movies\" DB\n",
    "* Hint : use the <code>'$lookup'</code> operator.\n",
    "* The Result should be something like the following:\n",
    "<code>\n",
    "Charlie Sheen : Wall Street\n",
    "Michael Douglas : Wall Street\n",
    "Martin Sheen : Wall Street\n",
    "Michael Douglas : The American President\n",
    "Martin Sheen : The American President\n",
    "Morgan Freeman : The Shawshank Redemption\n",
    "</code>"
   ]
  },
  {
   "cell_type": "code",
   "execution_count": 11,
   "metadata": {},
   "outputs": [
    {
     "name": "stdout",
     "output_type": "stream",
     "text": [
      "Charlie Sheen : Wall Street\n",
      "Michael Douglas : Wall Street\n",
      "Martin Sheen : Wall Street\n",
      "Michael Douglas : The American President\n",
      "Martin Sheen : The American President\n",
      "Morgan Freeman : The Shawshank Redemption\n"
     ]
    }
   ],
   "source": [
    "###YOUR CODE HERE\n",
    "\n",
    "results_agregation = mydb.Roles.aggregate([\n",
    "    {\n",
    "        \"$lookup\":{\n",
    "            \"from\": \"person\",      \n",
    "            \"localField\": \"personId\",  \n",
    "            \"foreignField\": \"id\",\n",
    "            \"as\": \"person_info\",         \n",
    "        }\n",
    "    },\n",
    "    {   \"$unwind\":\"$person_info\" },\n",
    "    {\n",
    "        \"$lookup\":{\n",
    "            \"from\": \"Movies\",      \n",
    "            \"localField\": \"movieId\",  \n",
    "            \"foreignField\": \"id\",\n",
    "            \"as\": \"movie_info\",         \n",
    "        }\n",
    "    },\n",
    "    {   \"$unwind\":\"$movie_info\" },\n",
    "]);\n",
    "\n",
    "for r in results_agregation:\n",
    "    print(f\"{r['person_info']['name']} : {r['movie_info']['title']}\")"
   ]
  },
  {
   "cell_type": "markdown",
   "metadata": {},
   "source": [
    "#### For each Actor, get count of \"Movies\" he acted in."
   ]
  },
  {
   "cell_type": "code",
   "execution_count": 12,
   "metadata": {},
   "outputs": [
    {
     "name": "stdout",
     "output_type": "stream",
     "text": [
      "{'_id': 'Charlie Sheen', 'count': 1}\n",
      "{'_id': 'Michael Douglas', 'count': 2}\n",
      "{'_id': 'Morgan Freeman', 'count': 1}\n",
      "{'_id': 'Martin Sheen', 'count': 2}\n"
     ]
    }
   ],
   "source": [
    "###YOUR CODE HERE\n",
    "results_agregation2 = mydb.person.aggregate([\n",
    "    {\n",
    "        \"$lookup\":{\n",
    "            \"from\": \"Roles\",      \n",
    "            \"localField\": \"id\",  \n",
    "            \"foreignField\": \"personId\",\n",
    "            \"as\": \"roles_info\",         \n",
    "        }\n",
    "    },\n",
    "    {   \"$unwind\":\"$roles_info\" },\n",
    "    { \n",
    "        \"$group\": { \n",
    "            \"_id\": \"$name\",\n",
    "            \"count\": { \"$sum\": 1 } \n",
    "        } \n",
    "     },\n",
    "]);\n",
    "for r in results_agregation2:\n",
    "    print(r)"
   ]
  },
  {
   "cell_type": "markdown",
   "metadata": {},
   "source": [
    "#### In your DB, list the movies that every Actor played"
   ]
  },
  {
   "cell_type": "code",
   "execution_count": 13,
   "metadata": {},
   "outputs": [
    {
     "name": "stdout",
     "output_type": "stream",
     "text": [
      "{'_id': 'Charlie Sheen', 'movies_acted': ['Wall Street']}\n",
      "{'_id': 'Michael Douglas', 'movies_acted': ['Wall Street', 'The American President']}\n",
      "{'_id': 'Morgan Freeman', 'movies_acted': ['The Shawshank Redemption']}\n",
      "{'_id': 'Martin Sheen', 'movies_acted': ['Wall Street', 'The American President']}\n"
     ]
    }
   ],
   "source": [
    "###YOUR CODE HERE\n",
    "results_agregation3 = mydb.Roles.aggregate([\n",
    "    {\n",
    "        \"$lookup\":{\n",
    "            \"from\": \"person\",      \n",
    "            \"localField\": \"personId\",  \n",
    "            \"foreignField\": \"id\",\n",
    "            \"as\": \"person_info\",         \n",
    "        }\n",
    "    },\n",
    "    {   \"$unwind\":\"$person_info\" },\n",
    "    {\n",
    "        \"$lookup\":{\n",
    "            \"from\": \"Movies\",      \n",
    "            \"localField\": \"movieId\",  \n",
    "            \"foreignField\": \"id\",\n",
    "            \"as\": \"movie_info\",         \n",
    "        }\n",
    "    },\n",
    "    {   \"$unwind\":\"$movie_info\" },\n",
    "    { \n",
    "        \"$group\": { \n",
    "            \"_id\": \"$person_info.name\",\n",
    "            \"movies_acted\": { \"$push\": \"$movie_info.title\" } \n",
    "        },\n",
    "     },\n",
    "]);\n",
    "for r in results_agregation3:\n",
    "    print(r)"
   ]
  },
  {
   "cell_type": "markdown",
   "metadata": {},
   "source": [
    "#### Get the Persons/Actors who acted in \"Wall Street\" movie\n",
    "- Hint use `$lookup` , `$match` operators in the aggregation piepeline"
   ]
  },
  {
   "cell_type": "code",
   "execution_count": 14,
   "metadata": {},
   "outputs": [
    {
     "name": "stdout",
     "output_type": "stream",
     "text": [
      "{'_id': 'Wall Street', 'actors': ['Charlie Sheen', 'Michael Douglas', 'Martin Sheen']}\n"
     ]
    }
   ],
   "source": [
    "###YOUR CODE HERE\n",
    "results_agregation3 = mydb.Roles.aggregate([\n",
    "    {\n",
    "        \"$lookup\":{\n",
    "            \"from\": \"person\",      \n",
    "            \"localField\": \"personId\",  \n",
    "            \"foreignField\": \"id\",\n",
    "            \"as\": \"person_info\",         \n",
    "        }\n",
    "    },\n",
    "    {   \"$unwind\":\"$person_info\" },\n",
    "    {\n",
    "        \"$lookup\":{\n",
    "            \"from\": \"Movies\",      \n",
    "            \"localField\": \"movieId\",  \n",
    "            \"foreignField\": \"id\",\n",
    "            \"as\": \"movie_info\",         \n",
    "        }\n",
    "    },\n",
    "    {   \"$unwind\":\"$movie_info\" },\n",
    "    { \"$match\": { \"movie_info.title\": { \"$eq\": \"Wall Street\" } } },\n",
    "    { \n",
    "        \"$group\": { \n",
    "            \"_id\": \"$movie_info.title\",\n",
    "            \"actors\": { \"$push\": \"$person_info.name\" } \n",
    "        },\n",
    "     },\n",
    "]);\n",
    "for r in results_agregation3:\n",
    "    print(r)"
   ]
  },
  {
   "cell_type": "markdown",
   "metadata": {},
   "source": [
    "#### Get the Movies in which \"Micheal Douglas\" has played a role in"
   ]
  },
  {
   "cell_type": "code",
   "execution_count": 15,
   "metadata": {},
   "outputs": [
    {
     "name": "stdout",
     "output_type": "stream",
     "text": [
      "{'_id': 'Michael Douglas', 'movies_acted': ['Wall Street', 'The American President']}\n"
     ]
    }
   ],
   "source": [
    "###YOUR CODE HERE\n",
    "results_agregation4 = mydb.Roles.aggregate([\n",
    "    {\n",
    "        \"$lookup\":{\n",
    "            \"from\": \"person\",      \n",
    "            \"localField\": \"personId\",  \n",
    "            \"foreignField\": \"id\",\n",
    "            \"as\": \"person_info\",         \n",
    "        }\n",
    "    },\n",
    "    {   \"$unwind\":\"$person_info\" },\n",
    "    {\n",
    "        \"$lookup\":{\n",
    "            \"from\": \"Movies\",      \n",
    "            \"localField\": \"movieId\",  \n",
    "            \"foreignField\": \"id\",\n",
    "            \"as\": \"movie_info\",         \n",
    "        }\n",
    "    },\n",
    "    {   \"$unwind\":\"$movie_info\" },\n",
    "    { \"$match\": { \"person_info.name\": { \"$regex\": \"Michael Douglas\" } } },\n",
    "    { \n",
    "        \"$group\": { \n",
    "            \"_id\": \"$person_info.name\",\n",
    "            \"movies_acted\": { \"$push\": \"$movie_info.title\" } \n",
    "        },\n",
    "     },\n",
    "]);\n",
    "for r in results_agregation4:\n",
    "    print(r)"
   ]
  },
  {
   "cell_type": "markdown",
   "metadata": {},
   "source": [
    "#### Get count of \"Movies\" in your DB"
   ]
  },
  {
   "cell_type": "code",
   "execution_count": 16,
   "metadata": {},
   "outputs": [
    {
     "data": {
      "text/plain": [
       "3"
      ]
     },
     "execution_count": 16,
     "metadata": {},
     "output_type": "execute_result"
    }
   ],
   "source": [
    "###YOUR CODE HERE\n",
    "mydb.Movies.count_documents({})\n"
   ]
  },
  {
   "cell_type": "markdown",
   "metadata": {},
   "source": [
    "#### update the year of the 'Wall Street' movie was released in to be 2000(which is not true BTW :)\n",
    "- Show that movie before and After updating it"
   ]
  },
  {
   "cell_type": "code",
   "execution_count": 18,
   "metadata": {},
   "outputs": [
    {
     "name": "stdout",
     "output_type": "stream",
     "text": [
      "+ + before + +\n",
      "{'_id': ObjectId('634e73173b8939e78986477d'),\n",
      " 'country': 'USA',\n",
      " 'id': 1,\n",
      " 'title': 'Wall Street',\n",
      " 'year': 1987}\n",
      "+ + after + +\n",
      "{'_id': ObjectId('634e73173b8939e78986477d'),\n",
      " 'country': 'USA',\n",
      " 'id': 1,\n",
      " 'title': 'Wall Street',\n",
      " 'year': 2000}\n"
     ]
    }
   ],
   "source": [
    "###YOUR CODE HERE\n",
    "print(\"+ + before + +\")\n",
    "res_mov = mydb.Movies.find_one({\"title\":\"Wall Street\"})\n",
    "pprint(res_mov)\n",
    "\n",
    "print(\"+ + after + +\")\n",
    "\n",
    "mydb.Movies.update_one({\"title\":\"Wall Street\"},{\"$set\": {\"year\":2000}  })\n",
    "\n",
    "res_mov = mydb.Movies.find_one({\"title\":\"Wall Street\"})\n",
    "pprint(res_mov)\n"
   ]
  },
  {
   "cell_type": "markdown",
   "metadata": {},
   "source": [
    "####  Delete all the persons with names start with 'M' letter."
   ]
  },
  {
   "cell_type": "code",
   "execution_count": 19,
   "metadata": {},
   "outputs": [
    {
     "name": "stdout",
     "output_type": "stream",
     "text": [
      "\n",
      " //////////////////BEFORE//////\n",
      "{'_id': ObjectId('634e73153b8939e789864779'), 'id': 1, 'name': 'Charlie Sheen'}\n",
      "{'_id': ObjectId('634e73153b8939e78986477a'), 'id': 2, 'name': 'Michael Douglas'}\n",
      "{'_id': ObjectId('634e73153b8939e78986477b'), 'id': 3, 'name': 'Martin Sheen'}\n",
      "{'_id': ObjectId('634e73153b8939e78986477c'), 'id': 4, 'name': 'Morgan Freeman'}\n",
      "\n",
      " //////////////////AFTER//////\n",
      "{'_id': ObjectId('634e73153b8939e789864779'), 'id': 1, 'name': 'Charlie Sheen'}\n"
     ]
    }
   ],
   "source": [
    "###YOUR CODE HERE\n",
    "print(\"\\n //////////////////BEFORE//////\")\n",
    "for cust in mydb.person.find({}):\n",
    "    print(cust)\n",
    "mydb.person.delete_many({\"name\" : { \"$regex\" : \"^M\" }})\n",
    "\n",
    "print(\"\\n //////////////////AFTER//////\")\n",
    "\n",
    "for cust in mydb.person.find({}):\n",
    "    print(cust)"
   ]
  },
  {
   "cell_type": "markdown",
   "metadata": {},
   "source": [
    "### Task 2: Extend your Mongo-\"MovieDB\" \n",
    "\n",
    "Imagine now that we are going to extend our DB with new movies, actors, even with new directors.\n",
    "\n",
    "- We add <b>**\"The matrix\"**</b> movie which was released in <b> USA, (1999)</b>, and has a new property/field \"Tagline\" <b>(\"Welcome to the Real World\")</b>.\n",
    " \n",
    "- We will also add 4 new actors (Person):\n",
    "    - **\"Keanu Reeves\"** who was born in (1964). <font color='green'>Note:</font> \"born\" property is also new.\n",
    "    - **\"Carrie-Anne Moss\"** who was born in (1967).\n",
    "    - **\"Laurence Fishburne\"** who was born in (1960).\n",
    "    - **\"Hugo Weaving\"** who was born in (1960).\n",
    "    \n",
    "- Moreover, we add 2 directors (Person) :\n",
    "    - **\"Lilly Wachowski\"**, born in (1967)\n",
    "    - **\"Lana Wachowski\"**, born in(1965)\n",
    "- For these directors specify one more label/field as (\"Director\"). (You can add this while inserting the director documents)\n",
    "    \n",
    " \n",
    "- We will also create a new <b>collection \"Directed\" </b> that is directed from the later 2 directors to \"the Matrix\" movie."
   ]
  },
  {
   "cell_type": "markdown",
   "metadata": {},
   "source": [
    "#### Add the Movie \"The Matrix\" with the provided data to the Movies collection"
   ]
  },
  {
   "cell_type": "code",
   "execution_count": 21,
   "metadata": {},
   "outputs": [
    {
     "name": "stdout",
     "output_type": "stream",
     "text": [
      "634ef7003b8939e789864787\n"
     ]
    }
   ],
   "source": [
    "###YOUR CODE HERE\n",
    "movies_added = moviescoll.insert_one({ \"id\": 4, \"title\": \"The Matrix\",\n",
    "                                       \"country\":\"USA\",\"year\":1999,\n",
    "                                       \"tagline\":\"Welcome to the Real World\"})\n",
    "print(movies_added.inserted_id)"
   ]
  },
  {
   "cell_type": "markdown",
   "metadata": {},
   "source": [
    "#### Insert the new 4 actors to the person collection"
   ]
  },
  {
   "cell_type": "code",
   "execution_count": 22,
   "metadata": {},
   "outputs": [
    {
     "name": "stdout",
     "output_type": "stream",
     "text": [
      "[ObjectId('634ef7e33b8939e789864788'), ObjectId('634ef7e33b8939e789864789'), ObjectId('634ef7e33b8939e78986478a'), ObjectId('634ef7e33b8939e78986478b')]\n"
     ]
    }
   ],
   "source": [
    "#Notice, How is easy to add a new field compared to the RDB\n",
    "newActorList = [\n",
    "  { \"id\": 5, \"name\": \"Keanu Reeves\", \"born\":1964 },\n",
    "  { \"id\": 6, \"name\": \"Carrie-Anne Moss\", \"born\":1967},\n",
    "  { \"id\": 7, \"name\": \"Laurence Fishburne\", \"born\":1960},\n",
    "  { \"id\": 8, \"name\": \"Hugo Weaving\", \"born\":1960}\n",
    "]\n",
    "\n",
    "###YOUR CODE HERE\n",
    "newActors = person_coll.insert_many(newActorList)\n",
    "print(newActors.inserted_ids)"
   ]
  },
  {
   "cell_type": "markdown",
   "metadata": {},
   "source": [
    "#### Insert the new 2 directors to the person collection"
   ]
  },
  {
   "cell_type": "code",
   "execution_count": 24,
   "metadata": {},
   "outputs": [
    {
     "name": "stdout",
     "output_type": "stream",
     "text": [
      "[ObjectId('634ef8cd3b8939e78986478c'), ObjectId('634ef8cd3b8939e78986478d')]\n"
     ]
    }
   ],
   "source": [
    "###YOUR CODE HERE\n",
    "directorsList = [\n",
    "  { \"id\": 9, \"name\": \"Lilly Wachowski\", \"born\":1967, \"label\":\"Director\"},\n",
    "  { \"id\": 10, \"name\": \"Lana Wachowski\", \"born\":1965, \"label\":\"Director\"},\n",
    "]\n",
    "\n",
    "###YOUR CODE HERE\n",
    "newDirectors = person_coll.insert_many(directorsList)\n",
    "print(newDirectors.inserted_ids)"
   ]
  },
  {
   "cell_type": "markdown",
   "metadata": {},
   "source": [
    "#### Create the \"Directed\" collection, and insert the data into it "
   ]
  },
  {
   "cell_type": "code",
   "execution_count": 25,
   "metadata": {},
   "outputs": [
    {
     "name": "stdout",
     "output_type": "stream",
     "text": [
      "[ObjectId('634ef93f3b8939e78986478e'), ObjectId('634ef93f3b8939e78986478f')]\n"
     ]
    }
   ],
   "source": [
    "###YOUR CODE HERE\n",
    "directedCol = mydb[\"Directed\"]\n",
    "\n",
    "directedList = [\n",
    "  { \"personId\": 9, \"movieId\": 4 },\n",
    "  { \"personId\": 10, \"movieId\": 4 },\n",
    "]\n",
    "\n",
    "###YOUR CODE HERE\n",
    "dir_added = directedCol.insert_many(directedList)\n",
    "print(dir_added.inserted_ids)"
   ]
  },
  {
   "cell_type": "markdown",
   "metadata": {},
   "source": [
    "#### Get only the directors from the person collection (i.e. persons marked with the label \"Director\")"
   ]
  },
  {
   "cell_type": "code",
   "execution_count": 28,
   "metadata": {},
   "outputs": [
    {
     "name": "stdout",
     "output_type": "stream",
     "text": [
      "{'_id': ObjectId('634ef8cd3b8939e78986478c'), 'id': 9, 'name': 'Lilly Wachowski', 'born': 1967, 'label': 'Director'}\n",
      "{'_id': ObjectId('634ef8cd3b8939e78986478d'), 'id': 10, 'name': 'Lana Wachowski', 'born': 1965, 'label': 'Director'}\n"
     ]
    }
   ],
   "source": [
    "###YOUR CODE HERE\n",
    "dirs = mydb.person.find( { \"label\": { \"$eq\": \"Director\" } } )\n",
    "\n",
    "for d in dirs:\n",
    "    print(d)"
   ]
  },
  {
   "cell_type": "markdown",
   "metadata": {},
   "source": [
    "#### Perform a query that get persons (names, and born year) who Directed \"The Matrix\" movie."
   ]
  },
  {
   "cell_type": "code",
   "execution_count": 37,
   "metadata": {},
   "outputs": [
    {
     "name": "stdout",
     "output_type": "stream",
     "text": [
      "{'_id': 'The Matrix', 'director': [{'name': 'Lilly Wachowski', 'born': 1967}, {'name': 'Lilly Wachowski', 'born': 1967}, {'name': 'Lana Wachowski', 'born': 1965}, {'name': 'Lana Wachowski', 'born': 1965}]}\n"
     ]
    }
   ],
   "source": [
    "###YOUR CODE HERE\n",
    "results_agregation3 = mydb.Directed.aggregate([\n",
    "    {\n",
    "        \"$lookup\":{\n",
    "            \"from\": \"person\",      \n",
    "            \"localField\": \"personId\",  \n",
    "            \"foreignField\": \"id\",\n",
    "            \"as\": \"person_info\",         \n",
    "        }\n",
    "    },\n",
    "    {   \"$unwind\":\"$person_info\" },\n",
    "    {\n",
    "        \"$lookup\":{\n",
    "            \"from\": \"Movies\",      \n",
    "            \"localField\": \"movieId\",  \n",
    "            \"foreignField\": \"id\",\n",
    "            \"as\": \"movie_info\",         \n",
    "        }\n",
    "    },\n",
    "    {   \"$unwind\":\"$movie_info\" },\n",
    "    { \"$match\": { \"movie_info.title\": { \"$eq\": \"The Matrix\" } } },\n",
    "    { \n",
    "        \"$group\": { \n",
    "            \"_id\": \"$movie_info.title\",\n",
    "            \"director\": { \"$push\": { \"name\" : \"$person_info.name\", \"born\" : \"$person_info.born\" } } \n",
    "        },\n",
    "     },\n",
    "]);\n",
    "for r in results_agregation3:\n",
    "    print(r)"
   ]
  },
  {
   "cell_type": "markdown",
   "metadata": {},
   "source": [
    " ## How long did it take you to solve the homework?\n",
    " \n",
    "Please answer as precisely as you can. It does not affect your points or grade in any way. It is okey, if it took 0.5 hours or 24 hours. The collected information will be used to improve future homeworks."
   ]
  },
  {
   "cell_type": "markdown",
   "metadata": {},
   "source": [
    "<font color=\"red\"><b>Answer:</b></font> 12 h"
   ]
  },
  {
   "cell_type": "markdown",
   "metadata": {},
   "source": [
    "**<center> <font color='red'>THANK YOU FOR YOUR EFFORT!</font></center>**"
   ]
  }
 ],
 "metadata": {
  "kernelspec": {
   "display_name": "Python 3 (ipykernel)",
   "language": "python",
   "name": "python3"
  },
  "language_info": {
   "codemirror_mode": {
    "name": "ipython",
    "version": 3
   },
   "file_extension": ".py",
   "mimetype": "text/x-python",
   "name": "python",
   "nbconvert_exporter": "python",
   "pygments_lexer": "ipython3",
   "version": "3.10.6"
  }
 },
 "nbformat": 4,
 "nbformat_minor": 2
}
